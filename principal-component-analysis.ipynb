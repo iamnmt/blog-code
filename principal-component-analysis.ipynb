{
 "cells": [
  {
   "cell_type": "markdown",
   "id": "d50b6bd1-7dc5-45fc-b06a-5d82e755a7e0",
   "metadata": {},
   "source": [
    "# Thư viện cần thiết"
   ]
  },
  {
   "cell_type": "code",
   "execution_count": 1,
   "id": "7dd7f6c4-eeea-44c6-8c75-9ed344f3b85c",
   "metadata": {},
   "outputs": [],
   "source": [
    "import numpy as np\n",
    "import pandas as pd\n",
    "from sklearn.decomposition import PCA\n",
    "from sklearn.preprocessing import StandardScaler\n",
    "import matplotlib.pyplot as plt\n",
    "%matplotlib inline"
   ]
  },
  {
   "cell_type": "markdown",
   "id": "f3079f60-363a-4d28-ad60-6475ed46e7d3",
   "metadata": {},
   "source": [
    "# Xây dựng dữ liệu"
   ]
  },
  {
   "cell_type": "code",
   "execution_count": 2,
   "id": "1c34e021-9d7e-4a77-bd7d-e40f3ca26662",
   "metadata": {
    "tags": []
   },
   "outputs": [
    {
     "data": {
      "text/html": [
       "<div>\n",
       "<style scoped>\n",
       "    .dataframe tbody tr th:only-of-type {\n",
       "        vertical-align: middle;\n",
       "    }\n",
       "\n",
       "    .dataframe tbody tr th {\n",
       "        vertical-align: top;\n",
       "    }\n",
       "\n",
       "    .dataframe thead th {\n",
       "        text-align: right;\n",
       "    }\n",
       "</style>\n",
       "<table border=\"1\" class=\"dataframe\">\n",
       "  <thead>\n",
       "    <tr style=\"text-align: right;\">\n",
       "      <th></th>\n",
       "      <th>x_1</th>\n",
       "      <th>x_2</th>\n",
       "      <th>x_3</th>\n",
       "      <th>x_12</th>\n",
       "      <th>x_22</th>\n",
       "    </tr>\n",
       "  </thead>\n",
       "  <tbody>\n",
       "    <tr>\n",
       "      <th>0</th>\n",
       "      <td>-0.490872</td>\n",
       "      <td>-0.740678</td>\n",
       "      <td>0.524974</td>\n",
       "      <td>-1.860988</td>\n",
       "      <td>-1.744999</td>\n",
       "    </tr>\n",
       "    <tr>\n",
       "      <th>1</th>\n",
       "      <td>0.925793</td>\n",
       "      <td>1.635419</td>\n",
       "      <td>0.778178</td>\n",
       "      <td>0.299356</td>\n",
       "      <td>2.928315</td>\n",
       "    </tr>\n",
       "    <tr>\n",
       "      <th>2</th>\n",
       "      <td>-1.999274</td>\n",
       "      <td>1.233817</td>\n",
       "      <td>0.270560</td>\n",
       "      <td>1.041861</td>\n",
       "      <td>2.121077</td>\n",
       "    </tr>\n",
       "    <tr>\n",
       "      <th>3</th>\n",
       "      <td>-0.392829</td>\n",
       "      <td>0.202712</td>\n",
       "      <td>0.644649</td>\n",
       "      <td>-1.135997</td>\n",
       "      <td>1.297740</td>\n",
       "    </tr>\n",
       "    <tr>\n",
       "      <th>4</th>\n",
       "      <td>0.716874</td>\n",
       "      <td>1.728463</td>\n",
       "      <td>-0.612732</td>\n",
       "      <td>-0.029981</td>\n",
       "      <td>1.366063</td>\n",
       "    </tr>\n",
       "    <tr>\n",
       "      <th>5</th>\n",
       "      <td>-1.065850</td>\n",
       "      <td>-0.416278</td>\n",
       "      <td>0.227099</td>\n",
       "      <td>0.582619</td>\n",
       "      <td>0.106715</td>\n",
       "    </tr>\n",
       "    <tr>\n",
       "      <th>6</th>\n",
       "      <td>2.016022</td>\n",
       "      <td>-1.331730</td>\n",
       "      <td>0.846289</td>\n",
       "      <td>2.829108</td>\n",
       "      <td>-2.623297</td>\n",
       "    </tr>\n",
       "    <tr>\n",
       "      <th>7</th>\n",
       "      <td>0.571052</td>\n",
       "      <td>0.432714</td>\n",
       "      <td>1.335914</td>\n",
       "      <td>1.793618</td>\n",
       "      <td>-0.427880</td>\n",
       "    </tr>\n",
       "    <tr>\n",
       "      <th>8</th>\n",
       "      <td>-0.828690</td>\n",
       "      <td>0.235364</td>\n",
       "      <td>0.757151</td>\n",
       "      <td>-1.096226</td>\n",
       "      <td>-0.132246</td>\n",
       "    </tr>\n",
       "    <tr>\n",
       "      <th>9</th>\n",
       "      <td>0.761266</td>\n",
       "      <td>-1.117452</td>\n",
       "      <td>0.412042</td>\n",
       "      <td>0.014127</td>\n",
       "      <td>-1.087253</td>\n",
       "    </tr>\n",
       "  </tbody>\n",
       "</table>\n",
       "</div>"
      ],
      "text/plain": [
       "        x_1       x_2       x_3      x_12      x_22\n",
       "0 -0.490872 -0.740678  0.524974 -1.860988 -1.744999\n",
       "1  0.925793  1.635419  0.778178  0.299356  2.928315\n",
       "2 -1.999274  1.233817  0.270560  1.041861  2.121077\n",
       "3 -0.392829  0.202712  0.644649 -1.135997  1.297740\n",
       "4  0.716874  1.728463 -0.612732 -0.029981  1.366063\n",
       "5 -1.065850 -0.416278  0.227099  0.582619  0.106715\n",
       "6  2.016022 -1.331730  0.846289  2.829108 -2.623297\n",
       "7  0.571052  0.432714  1.335914  1.793618 -0.427880\n",
       "8 -0.828690  0.235364  0.757151 -1.096226 -0.132246\n",
       "9  0.761266 -1.117452  0.412042  0.014127 -1.087253"
      ]
     },
     "execution_count": 2,
     "metadata": {},
     "output_type": "execute_result"
    }
   ],
   "source": [
    "data = pd.DataFrame(np.random.standard_normal((1000, 3)), columns=['x_1', 'x_2', 'x_3'])\n",
    "data['x_12'] = data['x_1'] + np.random.standard_normal(1000)\n",
    "data['x_22'] = data['x_2'] + np.random.standard_normal(1000)\n",
    "data.head(10)"
   ]
  },
  {
   "cell_type": "code",
   "execution_count": 3,
   "id": "b02a8c5a-ec7f-4053-9b7e-f066dccd8851",
   "metadata": {},
   "outputs": [],
   "source": [
    "data = data.to_numpy()"
   ]
  },
  {
   "cell_type": "markdown",
   "id": "b43c2cce-fab8-474c-9367-e2f84d4c9bf9",
   "metadata": {},
   "source": [
    "# Chuẩn hóa dữ liệu"
   ]
  },
  {
   "cell_type": "code",
   "execution_count": 4,
   "id": "c28ac489-2d83-4997-a9aa-0b747e5ec650",
   "metadata": {
    "tags": []
   },
   "outputs": [
    {
     "data": {
      "text/html": [
       "<div>\n",
       "<style scoped>\n",
       "    .dataframe tbody tr th:only-of-type {\n",
       "        vertical-align: middle;\n",
       "    }\n",
       "\n",
       "    .dataframe tbody tr th {\n",
       "        vertical-align: top;\n",
       "    }\n",
       "\n",
       "    .dataframe thead th {\n",
       "        text-align: right;\n",
       "    }\n",
       "</style>\n",
       "<table border=\"1\" class=\"dataframe\">\n",
       "  <thead>\n",
       "    <tr style=\"text-align: right;\">\n",
       "      <th></th>\n",
       "      <th>x_1</th>\n",
       "      <th>x_2</th>\n",
       "      <th>x_3</th>\n",
       "      <th>x_12</th>\n",
       "      <th>x_22</th>\n",
       "    </tr>\n",
       "  </thead>\n",
       "  <tbody>\n",
       "    <tr>\n",
       "      <th>0</th>\n",
       "      <td>-0.506972</td>\n",
       "      <td>-0.708974</td>\n",
       "      <td>0.480996</td>\n",
       "      <td>-1.330732</td>\n",
       "      <td>-1.192430</td>\n",
       "    </tr>\n",
       "    <tr>\n",
       "      <th>1</th>\n",
       "      <td>0.877785</td>\n",
       "      <td>1.706777</td>\n",
       "      <td>0.733020</td>\n",
       "      <td>0.182922</td>\n",
       "      <td>2.130939</td>\n",
       "    </tr>\n",
       "    <tr>\n",
       "      <th>2</th>\n",
       "      <td>-1.981399</td>\n",
       "      <td>1.298473</td>\n",
       "      <td>0.227767</td>\n",
       "      <td>0.703161</td>\n",
       "      <td>1.556882</td>\n",
       "    </tr>\n",
       "    <tr>\n",
       "      <th>3</th>\n",
       "      <td>-0.411137</td>\n",
       "      <td>0.250160</td>\n",
       "      <td>0.600113</td>\n",
       "      <td>-0.822764</td>\n",
       "      <td>0.971375</td>\n",
       "    </tr>\n",
       "    <tr>\n",
       "      <th>4</th>\n",
       "      <td>0.673572</td>\n",
       "      <td>1.801375</td>\n",
       "      <td>-0.651412</td>\n",
       "      <td>-0.047830</td>\n",
       "      <td>1.019962</td>\n",
       "    </tr>\n",
       "    <tr>\n",
       "      <th>5</th>\n",
       "      <td>-1.068999</td>\n",
       "      <td>-0.379160</td>\n",
       "      <td>0.184508</td>\n",
       "      <td>0.381391</td>\n",
       "      <td>0.124393</td>\n",
       "    </tr>\n",
       "    <tr>\n",
       "      <th>6</th>\n",
       "      <td>1.943458</td>\n",
       "      <td>-1.309890</td>\n",
       "      <td>0.800814</td>\n",
       "      <td>1.955403</td>\n",
       "      <td>-1.817021</td>\n",
       "    </tr>\n",
       "    <tr>\n",
       "      <th>7</th>\n",
       "      <td>0.531034</td>\n",
       "      <td>0.484000</td>\n",
       "      <td>1.288159</td>\n",
       "      <td>1.229882</td>\n",
       "      <td>-0.255777</td>\n",
       "    </tr>\n",
       "    <tr>\n",
       "      <th>8</th>\n",
       "      <td>-0.837180</td>\n",
       "      <td>0.283357</td>\n",
       "      <td>0.712091</td>\n",
       "      <td>-0.794899</td>\n",
       "      <td>-0.045541</td>\n",
       "    </tr>\n",
       "    <tr>\n",
       "      <th>9</th>\n",
       "      <td>0.716964</td>\n",
       "      <td>-1.092036</td>\n",
       "      <td>0.368589</td>\n",
       "      <td>-0.016925</td>\n",
       "      <td>-0.724682</td>\n",
       "    </tr>\n",
       "  </tbody>\n",
       "</table>\n",
       "</div>"
      ],
      "text/plain": [
       "        x_1       x_2       x_3      x_12      x_22\n",
       "0 -0.506972 -0.708974  0.480996 -1.330732 -1.192430\n",
       "1  0.877785  1.706777  0.733020  0.182922  2.130939\n",
       "2 -1.981399  1.298473  0.227767  0.703161  1.556882\n",
       "3 -0.411137  0.250160  0.600113 -0.822764  0.971375\n",
       "4  0.673572  1.801375 -0.651412 -0.047830  1.019962\n",
       "5 -1.068999 -0.379160  0.184508  0.381391  0.124393\n",
       "6  1.943458 -1.309890  0.800814  1.955403 -1.817021\n",
       "7  0.531034  0.484000  1.288159  1.229882 -0.255777\n",
       "8 -0.837180  0.283357  0.712091 -0.794899 -0.045541\n",
       "9  0.716964 -1.092036  0.368589 -0.016925 -0.724682"
      ]
     },
     "execution_count": 4,
     "metadata": {},
     "output_type": "execute_result"
    }
   ],
   "source": [
    "scaled_data = StandardScaler().fit_transform(data)\n",
    "pd.DataFrame(scaled_data, columns=['x_1', 'x_2', 'x_3', 'x_12', 'x_22']).head(10)"
   ]
  },
  {
   "cell_type": "markdown",
   "id": "92822961-cb0b-4da4-9775-7c7779b54f4f",
   "metadata": {},
   "source": [
    "# Đồ thị sự phụ thuộc của \"Phần trăm thông tin được bảo toàn (%)\" với \"Số chiều của không gian con\""
   ]
  },
  {
   "cell_type": "code",
   "execution_count": 5,
   "id": "3df18ae8-79c3-4743-a625-f80ead413c75",
   "metadata": {},
   "outputs": [
    {
     "data": {
      "image/png": "[encoded data removed]",
      "text/plain": [
       "<Figure size 432x288 with 1 Axes>"
      ]
     },
     "metadata": {
      "needs_background": "light"
     },
     "output_type": "display_data"
    }
   ],
   "source": [
    "pca = PCA().fit(scaled_data)\n",
    "\n",
    "plt.plot(np.arange(1, 6), 100 * np.cumsum(pca.explained_variance_ratio_))\n",
    "plt.xlabel('Chiều của không gian con')\n",
    "plt.ylabel('Phần trăm thông tin được bảo toàn (%)')\n",
    "plt.xticks(np.arange(1,6))\n",
    "plt.grid()\n",
    "plt.show()"
   ]
  },
  {
   "cell_type": "markdown",
   "id": "984249e5-bccf-4a34-8ce2-a4537ddf2e16",
   "metadata": {},
   "source": [
    "# Biến đổi tập dữ liệu ban đầu vào không gian $\\mathbb{R}^3$"
   ]
  },
  {
   "cell_type": "code",
   "execution_count": 6,
   "id": "44534044-fdf9-4953-a845-c5698823ec56",
   "metadata": {},
   "outputs": [
    {
     "data": {
      "text/html": [
       "<div>\n",
       "<style scoped>\n",
       "    .dataframe tbody tr th:only-of-type {\n",
       "        vertical-align: middle;\n",
       "    }\n",
       "\n",
       "    .dataframe tbody tr th {\n",
       "        vertical-align: top;\n",
       "    }\n",
       "\n",
       "    .dataframe thead th {\n",
       "        text-align: right;\n",
       "    }\n",
       "</style>\n",
       "<table border=\"1\" class=\"dataframe\">\n",
       "  <thead>\n",
       "    <tr style=\"text-align: right;\">\n",
       "      <th></th>\n",
       "      <th>x_1</th>\n",
       "      <th>x_2</th>\n",
       "      <th>x_3</th>\n",
       "    </tr>\n",
       "  </thead>\n",
       "  <tbody>\n",
       "    <tr>\n",
       "      <th>0</th>\n",
       "      <td>0.022858</td>\n",
       "      <td>-1.867478</td>\n",
       "      <td>-0.527943</td>\n",
       "    </tr>\n",
       "    <tr>\n",
       "      <th>1</th>\n",
       "      <td>-1.441266</td>\n",
       "      <td>2.441005</td>\n",
       "      <td>-0.656888</td>\n",
       "    </tr>\n",
       "    <tr>\n",
       "      <th>2</th>\n",
       "      <td>-2.085657</td>\n",
       "      <td>0.780196</td>\n",
       "      <td>-0.032567</td>\n",
       "    </tr>\n",
       "    <tr>\n",
       "      <th>3</th>\n",
       "      <td>-1.256053</td>\n",
       "      <td>-0.013468</td>\n",
       "      <td>-0.536000</td>\n",
       "    </tr>\n",
       "    <tr>\n",
       "      <th>4</th>\n",
       "      <td>-1.074967</td>\n",
       "      <td>1.709337</td>\n",
       "      <td>0.681718</td>\n",
       "    </tr>\n",
       "    <tr>\n",
       "      <th>5</th>\n",
       "      <td>-0.224284</td>\n",
       "      <td>-0.468506</td>\n",
       "      <td>-0.124086</td>\n",
       "    </tr>\n",
       "    <tr>\n",
       "      <th>6</th>\n",
       "      <td>3.464944</td>\n",
       "      <td>0.419558</td>\n",
       "      <td>-0.982039</td>\n",
       "    </tr>\n",
       "    <tr>\n",
       "      <th>7</th>\n",
       "      <td>0.691798</td>\n",
       "      <td>1.011762</td>\n",
       "      <td>-1.309011</td>\n",
       "    </tr>\n",
       "    <tr>\n",
       "      <th>8</th>\n",
       "      <td>-0.964523</td>\n",
       "      <td>-0.699165</td>\n",
       "      <td>-0.672751</td>\n",
       "    </tr>\n",
       "    <tr>\n",
       "      <th>9</th>\n",
       "      <td>1.243239</td>\n",
       "      <td>-0.548070</td>\n",
       "      <td>-0.450365</td>\n",
       "    </tr>\n",
       "  </tbody>\n",
       "</table>\n",
       "</div>"
      ],
      "text/plain": [
       "        x_1       x_2       x_3\n",
       "0  0.022858 -1.867478 -0.527943\n",
       "1 -1.441266  2.441005 -0.656888\n",
       "2 -2.085657  0.780196 -0.032567\n",
       "3 -1.256053 -0.013468 -0.536000\n",
       "4 -1.074967  1.709337  0.681718\n",
       "5 -0.224284 -0.468506 -0.124086\n",
       "6  3.464944  0.419558 -0.982039\n",
       "7  0.691798  1.011762 -1.309011\n",
       "8 -0.964523 -0.699165 -0.672751\n",
       "9  1.243239 -0.548070 -0.450365"
      ]
     },
     "execution_count": 6,
     "metadata": {},
     "output_type": "execute_result"
    }
   ],
   "source": [
    "pca = PCA(n_components=3).fit(scaled_data)\n",
    "transformed_data = pd.DataFrame(pca.transform(scaled_data), columns=['x_1', 'x_2', 'x_3'])\n",
    "transformed_data.head(10)"
   ]
  },
  {
   "cell_type": "markdown",
   "id": "899cd384-97c7-4dbf-9672-28507fef0180",
   "metadata": {},
   "source": [
    "# PCA tự xây dựng"
   ]
  },
  {
   "cell_type": "code",
   "execution_count": 7,
   "id": "fdc0ab74-ff7f-4bd7-9ae9-888173a7776c",
   "metadata": {},
   "outputs": [],
   "source": [
    "class simple_PCA:\n",
    "    def __init__(self):\n",
    "        self.principal_components = None\n",
    "        self.eigenvalues = None\n",
    "        self.scaled_data = None\n",
    "        self.scores = None\n",
    "    def fit(self, X, isStandardized=False):\n",
    "        '''\n",
    "        Input:\n",
    "            X: ndarray, shape (n, d).\n",
    "            isStandardized: boolean.\n",
    "        Output: None\n",
    "        '''\n",
    "        n, d = X.shape\n",
    "        # Chuẩn hóa dữ liệu\n",
    "        if (not isStandardized):\n",
    "            mean = X.mean(axis=0)\n",
    "            std = X.std(axis=0)\n",
    "            self.scaled_data = (X - mean) / std\n",
    "        else:\n",
    "            self.scaled_data = X\n",
    "        # Tính ma trận Sigma\n",
    "        Sigma = 1/n * self.scaled_data.T @ self.scaled_data\n",
    "        # Thực hiện phân rã trị riêng\n",
    "        eigenvalues, eigenvector = np.linalg.eig(Sigma)\n",
    "        # Cập nhật principal_components và eigenvalues\n",
    "        sorted_index = np.argsort(eigenvalues)[::-1]\n",
    "        self.eigenvalues = eigenvalues[sorted_index]\n",
    "        self.principal_components = eigenvector[sorted_index]\n",
    "        #Cập nhật scores\n",
    "        self.scores = 100 * np.cumsum(self.eigenvalues / self.eigenvalues.sum())\n",
    "    def transform_k(self, n_components):\n",
    "        '''\n",
    "        Input: \n",
    "            n_components: int.\n",
    "        Output:\n",
    "            Y: ndarray, shape (n, n_components).\n",
    "        '''\n",
    "        return self.scaled_data @ self.principal_components[:n_components].T\n",
    "    def transform_r(self, r):\n",
    "        '''\n",
    "        Input:\n",
    "            r: float, 0 <= r <= 100.\n",
    "        Output:\n",
    "            Y: ndarray, shape (n, n_components).\n",
    "        '''\n",
    "        n_components = np.searchsorted(self.scores, r) + 1\n",
    "        return self.scaled_data @ self.principal_components[:n_components].T\n",
    "    def plot_scores(self):\n",
    "        n, d = self.scaled_data.shape\n",
    "        plt.plot(np.arange(1, d+1), self.scores)\n",
    "        plt.xlabel('Chiều của không gian con')\n",
    "        plt.ylabel('Phần trăm thông tin được bảo toàn (%)')\n",
    "        plt.xticks(np.arange(1, d+1))\n",
    "        plt.grid()\n",
    "        plt.show()"
   ]
  },
  {
   "cell_type": "markdown",
   "id": "988d191c-4f73-4f83-a95d-48ef328e8119",
   "metadata": {},
   "source": [
    "## Khởi tạo một instance simple_PCA và fit dữ liệu"
   ]
  },
  {
   "cell_type": "code",
   "execution_count": 8,
   "id": "984ff15d-9808-4f25-9f12-9d0bb283a0a0",
   "metadata": {},
   "outputs": [],
   "source": [
    "pca = simple_PCA()\n",
    "pca.fit(data)"
   ]
  },
  {
   "cell_type": "markdown",
   "id": "7b18ddb0-da4a-463a-bc8d-024321434259",
   "metadata": {},
   "source": [
    "## Vẽ đồ thị sự phụ thuộc của \"Phần trăm thông tin được bảo toàn (%)\" với \"Số chiều của không gian con\""
   ]
  },
  {
   "cell_type": "code",
   "execution_count": 9,
   "id": "1e510b12-8d02-4c97-a8e5-7320f6dcba6c",
   "metadata": {},
   "outputs": [
    {
     "data": {
      "image/png": "[encoded data removed]",
      "text/plain": [
       "<Figure size 432x288 with 1 Axes>"
      ]
     },
     "metadata": {
      "needs_background": "light"
     },
     "output_type": "display_data"
    }
   ],
   "source": [
    "pca.plot_scores()"
   ]
  },
  {
   "cell_type": "markdown",
   "id": "866804e8-4ce6-4862-b5e2-052dcb212827",
   "metadata": {},
   "source": [
    "## Biến đổi dữ liệu bằng transform_k(3)"
   ]
  },
  {
   "cell_type": "code",
   "execution_count": 10,
   "id": "821d8635-0f3d-454d-8692-ed4cbb344293",
   "metadata": {},
   "outputs": [
    {
     "data": {
      "text/html": [
       "<div>\n",
       "<style scoped>\n",
       "    .dataframe tbody tr th:only-of-type {\n",
       "        vertical-align: middle;\n",
       "    }\n",
       "\n",
       "    .dataframe tbody tr th {\n",
       "        vertical-align: top;\n",
       "    }\n",
       "\n",
       "    .dataframe thead th {\n",
       "        text-align: right;\n",
       "    }\n",
       "</style>\n",
       "<table border=\"1\" class=\"dataframe\">\n",
       "  <thead>\n",
       "    <tr style=\"text-align: right;\">\n",
       "      <th></th>\n",
       "      <th>x_1</th>\n",
       "      <th>x_2</th>\n",
       "      <th>x_3</th>\n",
       "    </tr>\n",
       "  </thead>\n",
       "  <tbody>\n",
       "    <tr>\n",
       "      <th>0</th>\n",
       "      <td>-0.148819</td>\n",
       "      <td>0.661222</td>\n",
       "      <td>-0.554769</td>\n",
       "    </tr>\n",
       "    <tr>\n",
       "      <th>1</th>\n",
       "      <td>1.434126</td>\n",
       "      <td>0.215234</td>\n",
       "      <td>-0.698371</td>\n",
       "    </tr>\n",
       "    <tr>\n",
       "      <th>2</th>\n",
       "      <td>2.129697</td>\n",
       "      <td>-1.444086</td>\n",
       "      <td>-0.309062</td>\n",
       "    </tr>\n",
       "    <tr>\n",
       "      <th>3</th>\n",
       "      <td>1.197897</td>\n",
       "      <td>-0.084096</td>\n",
       "      <td>-0.670760</td>\n",
       "    </tr>\n",
       "    <tr>\n",
       "      <th>4</th>\n",
       "      <td>1.168370</td>\n",
       "      <td>0.781461</td>\n",
       "      <td>0.678682</td>\n",
       "    </tr>\n",
       "  </tbody>\n",
       "</table>\n",
       "</div>"
      ],
      "text/plain": [
       "        x_1       x_2       x_3\n",
       "0 -0.148819  0.661222 -0.554769\n",
       "1  1.434126  0.215234 -0.698371\n",
       "2  2.129697 -1.444086 -0.309062\n",
       "3  1.197897 -0.084096 -0.670760\n",
       "4  1.168370  0.781461  0.678682"
      ]
     },
     "execution_count": 10,
     "metadata": {},
     "output_type": "execute_result"
    }
   ],
   "source": [
    "pd.DataFrame(pca.transform_k(3), columns=['x_1', 'x_2', 'x_3']).head(5)"
   ]
  },
  {
   "cell_type": "markdown",
   "id": "8d247dd0-ce08-4b9e-9689-71bff9fe537f",
   "metadata": {},
   "source": [
    "## Biến đổi dữ liệu bằng transform_r(80)"
   ]
  },
  {
   "cell_type": "code",
   "execution_count": 11,
   "id": "bf518804-f2a2-449d-95f4-1b35aa967e73",
   "metadata": {},
   "outputs": [
    {
     "data": {
      "text/html": [
       "<div>\n",
       "<style scoped>\n",
       "    .dataframe tbody tr th:only-of-type {\n",
       "        vertical-align: middle;\n",
       "    }\n",
       "\n",
       "    .dataframe tbody tr th {\n",
       "        vertical-align: top;\n",
       "    }\n",
       "\n",
       "    .dataframe thead th {\n",
       "        text-align: right;\n",
       "    }\n",
       "</style>\n",
       "<table border=\"1\" class=\"dataframe\">\n",
       "  <thead>\n",
       "    <tr style=\"text-align: right;\">\n",
       "      <th></th>\n",
       "      <th>x_1</th>\n",
       "      <th>x_2</th>\n",
       "      <th>x_3</th>\n",
       "    </tr>\n",
       "  </thead>\n",
       "  <tbody>\n",
       "    <tr>\n",
       "      <th>0</th>\n",
       "      <td>-0.148819</td>\n",
       "      <td>0.661222</td>\n",
       "      <td>-0.554769</td>\n",
       "    </tr>\n",
       "    <tr>\n",
       "      <th>1</th>\n",
       "      <td>1.434126</td>\n",
       "      <td>0.215234</td>\n",
       "      <td>-0.698371</td>\n",
       "    </tr>\n",
       "    <tr>\n",
       "      <th>2</th>\n",
       "      <td>2.129697</td>\n",
       "      <td>-1.444086</td>\n",
       "      <td>-0.309062</td>\n",
       "    </tr>\n",
       "    <tr>\n",
       "      <th>3</th>\n",
       "      <td>1.197897</td>\n",
       "      <td>-0.084096</td>\n",
       "      <td>-0.670760</td>\n",
       "    </tr>\n",
       "    <tr>\n",
       "      <th>4</th>\n",
       "      <td>1.168370</td>\n",
       "      <td>0.781461</td>\n",
       "      <td>0.678682</td>\n",
       "    </tr>\n",
       "  </tbody>\n",
       "</table>\n",
       "</div>"
      ],
      "text/plain": [
       "        x_1       x_2       x_3\n",
       "0 -0.148819  0.661222 -0.554769\n",
       "1  1.434126  0.215234 -0.698371\n",
       "2  2.129697 -1.444086 -0.309062\n",
       "3  1.197897 -0.084096 -0.670760\n",
       "4  1.168370  0.781461  0.678682"
      ]
     },
     "execution_count": 11,
     "metadata": {},
     "output_type": "execute_result"
    }
   ],
   "source": [
    "pd.DataFrame(pca.transform_r(80), columns=['x_1', 'x_2', 'x_3']).head(5)"
   ]
  },
  {
   "cell_type": "code",
   "execution_count": null,
   "id": "996685a9-bc7d-4b33-b247-445ed1366c1d",
   "metadata": {},
   "outputs": [],
   "source": []
  }
 ],
 "metadata": {
  "kernelspec": {
   "display_name": "Python 3",
   "language": "python",
   "name": "python3"
  },
  "language_info": {
   "codemirror_mode": {
    "name": "ipython",
    "version": 3
   },
   "file_extension": ".py",
   "mimetype": "text/x-python",
   "name": "python",
   "nbconvert_exporter": "python",
   "pygments_lexer": "ipython3",
   "version": "3.8.11"
  }
 },
 "nbformat": 4,
 "nbformat_minor": 5
}
